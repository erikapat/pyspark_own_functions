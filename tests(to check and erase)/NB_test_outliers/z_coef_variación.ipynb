{
 "cells": [
  {
   "cell_type": "markdown",
   "metadata": {},
   "source": [
    "## Costs"
   ]
  },
  {
   "cell_type": "code",
   "execution_count": 96,
   "metadata": {},
   "outputs": [
    {
     "name": "stdout",
     "output_type": "stream",
     "text": [
      "The autoreload extension is already loaded. To reload it, use:\n",
      "  %reload_ext autoreload\n"
     ]
    }
   ],
   "source": [
    "# Load our own functions\n",
    "%load_ext autoreload\n",
    "%autoreload 2\n",
    "from utils.plots import *\n",
    "from utils.outlier import *\n",
    "from utils.partitions import *\n",
    "from utils.complete_missing_dates import *\n",
    "from utils.df_transformations import *\n",
    "\n",
    "# import necesary libraries\n",
    "import os\n",
    "import sys\n",
    "\n",
    "#pyspark libraries\n",
    "from pyspark import SparkConf\n",
    "from pyspark.sql import SparkSession\n",
    "from pyspark.sql.functions import unix_timestamp, from_unixtime\n",
    "from pyspark.sql.functions import col , column, lit\n",
    "from pyspark.sql.functions import to_date\n",
    "from pyspark.sql.functions import year, month, dayofmonth\n",
    "import pyspark.sql.functions as sf\n",
    "from functools import reduce\n",
    "\n",
    "#plot libraries\n",
    "import matplotlib.pyplot as plt\n",
    "import matplotlib.dates as mdates\n",
    "\n",
    "#other\n",
    "import datetime\n",
    "import pandas as pd\n",
    "import numpy as np\n",
    "\n",
    "# Configuration properties of Apache Spark\n",
    "APP_NAME = 'pyspark_python'\n",
    "MASTER = 'local[*]'\n",
    "\n",
    "conf = SparkConf().setAppName(APP_NAME)\n",
    "conf = conf.setMaster(MASTER)\n",
    "spark = SparkSession.builder.config(conf = conf).getOrCreate()\n",
    "sc = spark.sparkContext"
   ]
  },
  {
   "cell_type": "code",
   "execution_count": 52,
   "metadata": {},
   "outputs": [],
   "source": [
    "# montly income\n",
    "modelDataFile = \"Data_ignore/ex1/df_income_g.csv\"\n",
    "df_income_g_1 = spark.read\\\n",
    "  .format('org.apache.spark.sql.execution.datasources.csv.CSVFileFormat')\\\n",
    "  .option('header', 'true')\\\n",
    "  .option('inferSchema', 'true')\\\n",
    "  .option(\"delimiter\", \",\") \\\n",
    "  .load(modelDataFile)\n",
    "\n",
    "modelDataFile = \"Data_ignore/ex2/df_income_g.csv\"\n",
    "df_income_g_2 = spark.read\\\n",
    "  .format('org.apache.spark.sql.execution.datasources.csv.CSVFileFormat')\\\n",
    "  .option('header', 'true')\\\n",
    "  .option('inferSchema', 'true')\\\n",
    "  .option(\"delimiter\", \",\") \\\n",
    "  .load(modelDataFile)\n",
    "\n",
    "# montly cost\n",
    "modelDataFile = \"Data_ignore/ex1/df_costs_aux.csv\"\n",
    "\n",
    "df_income_g_3 = spark.read\\\n",
    "  .format('org.apache.spark.sql.execution.datasources.csv.CSVFileFormat')\\\n",
    "  .option('header', 'true')\\\n",
    "  .option('inferSchema', 'true')\\\n",
    "  .option(\"delimiter\", \",\") \\\n",
    "  .load(modelDataFile)\n",
    "\n",
    "modelDataFile = \"Data_ignore/ex2/df_costs.csv\"\n",
    "\n",
    "df_income_g_4 = spark.read\\\n",
    "  .format('org.apache.spark.sql.execution.datasources.csv.CSVFileFormat')\\\n",
    "  .option('header', 'true')\\\n",
    "  .option('inferSchema', 'true')\\\n",
    "  .option(\"delimiter\", \",\") \\\n",
    "  .load(modelDataFile)\n",
    "\n"
   ]
  },
  {
   "cell_type": "code",
   "execution_count": 53,
   "metadata": {},
   "outputs": [],
   "source": [
    "dfs = [df_income_g_3, df_income_g_4] #, df_income_g_3, df_income_g_4\n",
    "df_income_g = reduce(DataFrame.union, dfs)\n",
    "df_income_g = (df_income_g.drop('_c0', 'g_country_id', 'gf_entity_id')\n",
    "               .withColumn('account_seniority_y', col('account_seniority_m')/12)\n",
    "               .sort('gf_customer_id', 'monthly_partition'))\n",
    "\n",
    "#complete empty months\n",
    "df_income_g = (df_income_g.withColumn('year', year('monthly_partition')).withColumn('month', month('monthly_partition'))\n",
    ".withColumn('monthly_partition', col('monthly_partition').cast('string')))\n",
    "#df_income_g = (complete_missing_months(spark, df_income_g, 'monthly_partition', 'gf_customer_id'))\n",
    "df_income_g_fill = df_income_g.fillna(0)\n",
    "\n"
   ]
  },
  {
   "cell_type": "code",
   "execution_count": 54,
   "metadata": {},
   "outputs": [
    {
     "data": {
      "text/plain": [
       "138"
      ]
     },
     "execution_count": 54,
     "metadata": {},
     "output_type": "execute_result"
    }
   ],
   "source": [
    "df_income_g_1.count()"
   ]
  },
  {
   "cell_type": "code",
   "execution_count": 71,
   "metadata": {},
   "outputs": [],
   "source": []
  },
  {
   "cell_type": "code",
   "execution_count": 94,
   "metadata": {},
   "outputs": [
    {
     "name": "stdout",
     "output_type": "stream",
     "text": [
      "_c0\n",
      "no\n",
      "gf_entity_id\n",
      "gf_customer_id\n",
      "monthly_partition\n",
      "montly_amount\n",
      "year\n",
      "month\n",
      "account_seniority_m\n"
     ]
    }
   ],
   "source": [
    "from pyspark.sql.types import StringType\n",
    "\n",
    "df = df_income_g_1\n",
    "df1 = df\n",
    "for col_name in df.schema.names:\n",
    "    if not isinstance(df.schema[col_name].dataType, StringType):\n",
    "        df1 = df1.drop(col_name)\n",
    "        print(col_name)"
   ]
  },
  {
   "cell_type": "code",
   "execution_count": 95,
   "metadata": {},
   "outputs": [
    {
     "name": "stdout",
     "output_type": "stream",
     "text": [
      "+------------+\n",
      "|g_country_id|\n",
      "+------------+\n",
      "|          ES|\n",
      "|          ES|\n",
      "|          ES|\n",
      "|          ES|\n",
      "|          ES|\n",
      "|          ES|\n",
      "|          ES|\n",
      "|          ES|\n",
      "|          ES|\n",
      "|          ES|\n",
      "|          ES|\n",
      "|          ES|\n",
      "|          ES|\n",
      "|          ES|\n",
      "|          ES|\n",
      "|          ES|\n",
      "|          ES|\n",
      "|          ES|\n",
      "|          ES|\n",
      "|          ES|\n",
      "+------------+\n",
      "only showing top 20 rows\n",
      "\n"
     ]
    }
   ],
   "source": [
    "df1.show()"
   ]
  },
  {
   "cell_type": "code",
   "execution_count": 56,
   "metadata": {
    "scrolled": true
   },
   "outputs": [
    {
     "name": "stdout",
     "output_type": "stream",
     "text": [
      "number of outliers:  7\n",
      "number of Normal values:  324\n"
     ]
    }
   ],
   "source": [
    "df_income_g_fill = (df_income_g_fill.withColumn(\"log_montly_amount\", sf.log(col(\"montly_amount\"))))\n",
    "d_outliers_log = find_outliers(df_income_g_fill.withColumn('year', year('monthly_partition')),\n",
    "                           comparison_column = 'gf_customer_id', \n",
    "                           field_value =  'log_montly_amount', #'montly_amount',\n",
    "                          keep_columns = ['monthly_partition', 'montly_amount'],\n",
    "                          only_outliers = False).sort('monthly_partition')\n",
    "d_outliers_log = d_outliers_log.drop('year').sort('gf_customer_id', 'monthly_partition')\n",
    "d_outliers_log = d_outliers_log.withColumn('monthly_partition', create_partitions_from_df('monthly_partition', \"yyyy-MM-dd\"))"
   ]
  },
  {
   "cell_type": "code",
   "execution_count": 43,
   "metadata": {},
   "outputs": [
    {
     "name": "stdout",
     "output_type": "stream",
     "text": [
      "+--------------+-----------------+-----------------+-------------+-----+------+--------+------+----------+----------+---------+-------------+-------------+\n",
      "|gf_customer_id|log_montly_amount|monthly_partition|montly_amount|mean |median|skewness|stddev|UpperLimit|LowerLimit|isOutlier|ratio_mean_sd|ratio_sd_mean|\n",
      "+--------------+-----------------+-----------------+-------------+-----+------+--------+------+----------+----------+---------+-------------+-------------+\n",
      "|9987384       |10.094           |2019-07-31       |24200.0      |9.276|8.741 |0.415   |2.004 |12.281    |6.27      |false    |4.629        |0.216        |\n",
      "|9987384       |6.321            |2019-08-31       |556.17       |9.276|8.741 |0.415   |2.004 |12.281    |6.27      |false    |4.629        |0.216        |\n",
      "|9987384       |8.288            |2019-09-30       |3974.59      |9.276|8.741 |0.415   |2.004 |12.281    |6.27      |false    |4.629        |0.216        |\n",
      "|9987384       |8.904            |2019-10-31       |7357.99      |9.276|8.741 |0.415   |2.004 |12.281    |6.27      |false    |4.629        |0.216        |\n",
      "|9987384       |8.896            |2019-11-30       |7303.56      |9.276|8.741 |0.415   |2.004 |12.281    |6.27      |false    |4.629        |0.216        |\n",
      "|9987384       |11.695           |2019-12-31       |119983.14    |9.276|8.741 |0.415   |2.004 |12.281    |6.27      |false    |4.629        |0.216        |\n",
      "|9987384       |8.526            |2020-01-31       |5043.45      |9.276|8.741 |0.415   |2.004 |12.281    |6.27      |false    |4.629        |0.216        |\n",
      "|9987384       |null             |2020-02-29       |-306.0       |9.276|8.741 |0.415   |2.004 |12.281    |6.27      |null     |4.629        |0.216        |\n",
      "|9987384       |null             |2020-03-31       |-432.35      |9.276|8.741 |0.415   |2.004 |12.281    |6.27      |null     |4.629        |0.216        |\n",
      "|9987384       |8.587            |2020-04-30       |5358.9       |9.276|8.741 |0.415   |2.004 |12.281    |6.27      |false    |4.629        |0.216        |\n",
      "|9987384       |null             |2020-05-31       |-49.66       |9.276|8.741 |0.415   |2.004 |12.281    |6.27      |null     |4.629        |0.216        |\n",
      "|9987384       |12.929           |2020-06-30       |412151.35    |9.276|8.741 |0.415   |2.004 |12.281    |6.27      |true     |4.629        |0.216        |\n",
      "|9987384       |null             |2020-07-31       |-292.08      |9.276|8.741 |0.415   |2.004 |12.281    |6.27      |null     |4.629        |0.216        |\n",
      "|9987384       |12.475           |2020-08-31       |261599.39    |9.276|8.741 |0.415   |2.004 |12.281    |6.27      |true     |4.629        |0.216        |\n",
      "|9987384       |8.441            |2020-09-30       |4632.87      |9.276|8.741 |0.415   |2.004 |12.281    |6.27      |false    |4.629        |0.216        |\n",
      "|9987384       |null             |2020-10-31       |-388.72      |9.276|8.741 |0.415   |2.004 |12.281    |6.27      |null     |4.629        |0.216        |\n",
      "|9987384       |null             |2020-11-30       |-1527.22     |9.276|8.741 |0.415   |2.004 |12.281    |6.27      |null     |4.629        |0.216        |\n",
      "|9987384       |10.094           |2020-12-31       |24200.0      |9.276|8.741 |0.415   |2.004 |12.281    |6.27      |false    |4.629        |0.216        |\n",
      "|9987384       |6.321            |2021-01-31       |556.17       |9.276|8.741 |0.415   |2.004 |12.281    |6.27      |false    |4.629        |0.216        |\n",
      "|9987384       |8.288            |2021-02-28       |3974.59      |9.276|8.741 |0.415   |2.004 |12.281    |6.27      |false    |4.629        |0.216        |\n",
      "|9987384       |null             |2021-03-31       |-4433833.33  |9.276|8.741 |0.415   |2.004 |12.281    |6.27      |null     |4.629        |0.216        |\n",
      "+--------------+-----------------+-----------------+-------------+-----+------+--------+------+----------+----------+---------+-------------+-------------+\n",
      "\n"
     ]
    }
   ],
   "source": [
    "d_outliers_log.filter('''gf_customer_id = 9987384''').drop('Hotelling', 'stddev_median').show(200, False)"
   ]
  },
  {
   "cell_type": "code",
   "execution_count": 27,
   "metadata": {},
   "outputs": [
    {
     "name": "stdout",
     "output_type": "stream",
     "text": [
      "+--------------+-----------------+-----------------+-------------+-----+------+--------+------+----------+----------+---------+-------------+-------------+\n",
      "|gf_customer_id|log_montly_amount|monthly_partition|montly_amount|mean |median|skewness|stddev|UpperLimit|LowerLimit|isOutlier|ratio_mean_sd|ratio_sd_mean|\n",
      "+--------------+-----------------+-----------------+-------------+-----+------+--------+------+----------+----------+---------+-------------+-------------+\n",
      "|65            |8.19             |2019-11-30       |3606.3       |7.629|7.506 |1.696   |0.271 |8.035     |7.223     |true     |28.177       |0.035        |\n",
      "|65            |8.199            |2020-06-30       |3638.76      |7.629|7.506 |1.696   |0.271 |8.035     |7.223     |true     |28.177       |0.035        |\n",
      "|65            |8.199            |2020-11-30       |3638.76      |7.629|7.506 |1.696   |0.271 |8.035     |7.223     |true     |28.177       |0.035        |\n",
      "|588           |11.024           |2020-12-31       |61350.26     |8.039|7.573 |2.342   |0.919 |9.418     |6.66      |true     |8.744        |0.114        |\n",
      "|588           |9.45             |2021-02-28       |12711.57     |8.039|7.573 |2.342   |0.919 |9.418     |6.66      |true     |8.744        |0.114        |\n",
      "|898           |9.17             |2020-11-30       |9600.85      |8.494|8.631 |0.046   |0.418 |9.121     |7.867     |true     |20.323       |0.049        |\n",
      "|1620          |7.287            |2020-01-31       |1460.86      |8.037|8.037 |0.744   |0.483 |8.762     |7.313     |true     |16.647       |0.06         |\n",
      "|1620          |7.301            |2021-01-31       |1482.28      |8.037|8.037 |0.744   |0.483 |8.762     |7.313     |true     |16.647       |0.06         |\n",
      "|1620          |9.291            |2021-03-31       |10842.67     |8.037|8.037 |0.744   |0.483 |8.762     |7.313     |true     |16.647       |0.06         |\n",
      "|1621          |7.287            |2020-01-31       |1460.86      |8.176|8.084 |0.377   |0.401 |8.778     |7.574     |true     |20.38        |0.049        |\n",
      "|1621          |9.194            |2021-03-31       |9842.67      |8.176|8.084 |0.377   |0.401 |8.778     |7.574     |true     |20.38        |0.049        |\n",
      "|1622          |7.287            |2020-12-31       |1460.86      |8.176|8.084 |0.377   |0.401 |8.778     |7.574     |true     |20.38        |0.049        |\n",
      "|1622          |9.194            |2021-03-31       |9842.67      |8.176|8.084 |0.377   |0.401 |8.778     |7.574     |true     |20.38        |0.049        |\n",
      "|2086          |7.478            |2019-11-30       |1769.24      |6.889|6.885 |0.504   |0.318 |7.365     |6.412     |true     |21.676       |0.046        |\n",
      "|2086          |7.415            |2020-10-31       |1661.36      |6.889|6.885 |0.504   |0.318 |7.365     |6.412     |true     |21.676       |0.046        |\n",
      "|6726          |7.767            |2020-05-31       |2360.46      |8.758|8.779 |0.507   |0.557 |9.594     |7.922     |true     |15.711       |0.064        |\n",
      "|6726          |10.077           |2021-03-31       |23793.0      |8.758|8.779 |0.507   |0.557 |9.594     |7.922     |true     |15.711       |0.064        |\n",
      "|14138         |10.246           |2021-02-28       |28161.36     |9.504|9.472 |1.876   |0.244 |9.87      |9.139     |true     |38.993       |0.026        |\n",
      "|43883         |11.451           |2021-02-28       |94032.28     |8.213|7.999 |3.214   |0.894 |9.555     |6.872     |true     |9.182        |0.109        |\n",
      "|45634         |9.82             |2020-03-31       |18389.96     |7.938|7.465 |1.979   |0.994 |9.429     |6.447     |true     |7.985        |0.125        |\n",
      "|45634         |10.696           |2021-03-31       |44171.74     |7.938|7.465 |1.979   |0.994 |9.429     |6.447     |true     |7.985        |0.125        |\n",
      "|48334         |6.948            |2020-09-30       |1040.97      |7.152|7.118 |1.454   |0.126 |7.341     |6.962     |true     |56.561       |0.018        |\n",
      "|48334         |7.512            |2021-01-31       |1829.07      |7.152|7.118 |1.454   |0.126 |7.341     |6.962     |true     |56.561       |0.018        |\n",
      "|69933         |5.193            |2021-01-31       |180.0        |4.912|4.868 |1.755   |0.092 |5.05      |4.773     |true     |53.217       |0.019        |\n",
      "|40195173      |8.643            |2020-07-31       |5672.97      |7.864|7.738 |1.468   |0.336 |8.367     |7.36      |true     |23.428       |0.043        |\n",
      "|40195173      |8.552            |2021-02-28       |5178.08      |7.864|7.738 |1.468   |0.336 |8.367     |7.36      |true     |23.428       |0.043        |\n",
      "|40649835      |7.889            |2019-12-31       |2669.09      |6.8  |6.925 |-0.568  |0.656 |7.784     |5.815     |true     |10.364       |0.096        |\n",
      "|40649835      |5.76             |2020-03-31       |317.43       |6.8  |6.925 |-0.568  |0.656 |7.784     |5.815     |true     |10.364       |0.096        |\n",
      "|40649835      |5.76             |2020-05-31       |317.43       |6.8  |6.925 |-0.568  |0.656 |7.784     |5.815     |true     |10.364       |0.096        |\n",
      "|40649835      |5.76             |2020-08-31       |317.43       |6.8  |6.925 |-0.568  |0.656 |7.784     |5.815     |true     |10.364       |0.096        |\n",
      "|40649835      |5.76             |2020-09-30       |317.43       |6.8  |6.925 |-0.568  |0.656 |7.784     |5.815     |true     |10.364       |0.096        |\n",
      "+--------------+-----------------+-----------------+-------------+-----+------+--------+------+----------+----------+---------+-------------+-------------+\n",
      "\n"
     ]
    }
   ],
   "source": [
    "d_outliers_log.drop('Hotelling', 'stddev_median').show(200, False) # = d_outliers_log.select('gf_customer_id', 'isOutlier', 'monthly_partition').withColumnRenamed('isOutlier', 'isLogOutlier')"
   ]
  },
  {
   "cell_type": "code",
   "execution_count": 32,
   "metadata": {},
   "outputs": [
    {
     "name": "stdout",
     "output_type": "stream",
     "text": [
      "number of outliers:  10\n",
      "number of Normal values:  222\n"
     ]
    }
   ],
   "source": [
    "d_outliers = find_outliers(df_income_g_fill.withColumn('year', year('monthly_partition')),\n",
    "                           comparison_column = 'gf_customer_id', \n",
    "                           field_value =  'montly_amount', #'montly_amount',\n",
    "                          keep_columns = ['monthly_partition'],\n",
    "                          only_outliers = False).sort('monthly_partition')\n",
    "d_outliers = d_outliers.drop('year').sort('gf_customer_id', 'monthly_partition')\n",
    "d_outliers = d_outliers.withColumn('monthly_partition', create_partitions_from_df('monthly_partition', \"yyyy-MM-dd\"))\n",
    "#d_outliers.show(2, False)"
   ]
  },
  {
   "cell_type": "code",
   "execution_count": 9,
   "metadata": {},
   "outputs": [],
   "source": [
    "d_outliers = d_outliers.join(d_outliers_log,['monthly_partition', 'gf_customer_id'], 'left')"
   ]
  },
  {
   "cell_type": "code",
   "execution_count": 10,
   "metadata": {},
   "outputs": [],
   "source": [
    "#d_outliers.show()"
   ]
  },
  {
   "cell_type": "code",
   "execution_count": 11,
   "metadata": {},
   "outputs": [
    {
     "name": "stdout",
     "output_type": "stream",
     "text": [
      "+--------------+-----------------+-------------+----+-----+-------------------+-------------------+---------+------------+----+-------------+\n",
      "|gf_customer_id|monthly_partition|montly_amount|year|month|account_seniority_m|account_seniority_y|isOutlier|isLogOutlier|mean|ratio_sd_mean|\n",
      "+--------------+-----------------+-------------+----+-----+-------------------+-------------------+---------+------------+----+-------------+\n",
      "+--------------+-----------------+-------------+----+-----+-------------------+-------------------+---------+------------+----+-------------+\n",
      "\n"
     ]
    }
   ],
   "source": [
    "df_join = (df_income_g.withColumn('monthly_partition', create_partitions_from_df('monthly_partition', \"yyyy-MM-dd\"))\n",
    "           .join(d_outliers.select('gf_customer_id','monthly_partition', 'montly_amount', \"isOutlier\", \"isLogOutlier\", \"mean\", \"ratio_sd_mean\"), \n",
    "                            ['gf_customer_id','monthly_partition', 'montly_amount'], 'left')\n",
    "          .withColumn('isOutlier', sf.when(col('isOutlier') ==True, 1).otherwise(0)) \n",
    "           .withColumn('isLogOutlier', sf.when(col('isLogOutlier') ==True, 1).otherwise(0))\n",
    "          )\n",
    "\n",
    "#df_join_log = (df_income_g.withColumn('monthly_partition', create_partitions_from_df('monthly_partition', \"yyyy-MM-dd\"))\n",
    "#           .join(d_outliers_log.select('gf_customer_id','monthly_partition', 'montly_amount', 'log_montly_amount', \"isOutlier\", \"mean\", \"ratio_sd_mean\"), \n",
    "#                            ['gf_customer_id','monthly_partition', 'montly_amount'], 'left')\n",
    "#          .withColumn('isOutlier', sf.when(col('isOutlier') ==True, 1).otherwise(0)) )\n",
    "\n",
    "id_values= 227\n",
    "df_join.filter(col('gf_customer_id') == id_values).show(2, False)"
   ]
  },
  {
   "cell_type": "code",
   "execution_count": 12,
   "metadata": {},
   "outputs": [],
   "source": [
    "from pyspark.sql.window import Window\n",
    "from pyspark.sql.functions import *\n",
    "import numpy as np \n",
    "from pyspark.sql.types import FloatType\n",
    "\n",
    "\n",
    "def rolling_metric(df, partitioned_by = \"gf_customer_id\", value = \"montly_expense\", date_field = \"monthly_partition\", window_size = 3):\n",
    "    \"\"\"\n",
    "    Rolling Median & Mean \n",
    "    \"\"\"\n",
    "    \n",
    "    median_udf = udf(lambda x: float(np.median(x)), FloatType())\n",
    "\n",
    "    w = Window.partitionBy(partitioned_by).orderBy(date_field)\n",
    "    df = df.withColumn(\"date\", col(date_field).cast(\"date\"))\n",
    "    df = df.withColumn('rank', F.dense_rank().over(w))\n",
    "    w2 = (Window().partitionBy(partitioned_by).orderBy(\"rank\").rangeBetween(-window_size, -1)) #excluding the current month, only past values.\n",
    "    df = df.select(\"*\", (F.mean(value).over(w2)).alias(\"rolling_avg_\" + str(window_size) + \"m\"))\\\n",
    "            #.filter(col('isOutlier')*col(\"rank\")>=1)\n",
    "    w2 = (Window().partitionBy(partitioned_by).orderBy(\"rank\").rangeBetween(-(window_size - 1), 0))\n",
    "    df = df.withColumn(\"list\", collect_list(value).over(w2)) \\\n",
    "      .withColumn(\"rolling_median_\" + str(window_size) + \"m\", median_udf(\"list\").cast('double')).drop('date', 'rank') #'list', \n",
    "    \n",
    "    return df\n",
    "\n",
    "def rolling_metric_12m(df, partitioned_by = \"gf_customer_id\", value = \"montly_expense\", date_field = \"monthly_partition\"):\n",
    "    \"\"\"\n",
    "    Rolling Mean of 12 months including the current one.\n",
    "    \"\"\"\n",
    "    window_size = 12\n",
    "\n",
    "    w = Window.partitionBy(partitioned_by).orderBy(date_field)\n",
    "    df = df.withColumn(\"date\", col(date_field).cast(\"date\"))\n",
    "    df = df.withColumn('rank', F.dense_rank().over(w))\n",
    "    w2 = (Window().partitionBy(partitioned_by).orderBy(\"rank\").rangeBetween(-window_size, 0)) #including the current month, only past values.\n",
    "    df = (df.select(\"*\", (F.mean(value).over(w2)).alias(value + \"_avg_\" + str(window_size) + \"m\"))\n",
    "          .withColumn(value + \"_avg_\" + str(window_size) + \"m\",sf.when(col(\"rank\")>=window_size, col(value + \"_avg_\" + str(window_size) + \"m\")).otherwise(0) ))\n",
    "    \n",
    "    return df"
   ]
  },
  {
   "cell_type": "code",
   "execution_count": 13,
   "metadata": {},
   "outputs": [],
   "source": [
    "#sustitute by window of 3\n",
    "df_rolling = (rolling_metric(df_join, partitioned_by = \"gf_customer_id\", value = \"montly_amount\", date_field = \"monthly_partition\", window_size = 3))\n",
    "#sustitute \n",
    "df_rolling_out = (df_rolling #isLogOutlier\n",
    "                  .withColumn('inc_mean', sf.when( (col('isOutlier')== 1) & (col('monthly_partition')== '2021-03-31'), col('rolling_avg_3m')).otherwise(col('montly_amount')))\n",
    "                  .withColumn('inc_mean_log', sf.when( (col('isLogOutlier')== 1) & (col('monthly_partition')== '2021-03-31'), col('rolling_avg_3m')).otherwise(col('montly_amount')))\n",
    "                  #.withColumn('inc_median', sf.when(col('isOutlier')== 1, col('rolling_median_3m')).otherwise(col('montly_amount')))\n",
    "                                    .drop('rolling_avg_3m', 'list', 'rolling_median_3m', 'account_seniority_m', 'account_seniority_y', 'year', 'month'))\n",
    "#isLogOutlier\n",
    "df_comparison = rolling_metric_12m(df_rolling_out, partitioned_by = \"gf_customer_id\", value = \"montly_amount\", date_field = \"monthly_partition\")\n",
    "df_comparison = rolling_metric_12m(df_comparison, partitioned_by = \"gf_customer_id\", value = \"inc_mean\", date_field = \"monthly_partition\")\n",
    "#df_comparison = rolling_metric_12m(df_comparison, partitioned_by = \"gf_customer_id\", value = \"inc_median\", date_field = \"monthly_partition\")\n",
    "df_comparison = rolling_metric_12m(df_comparison, partitioned_by = \"gf_customer_id\", value = \"inc_mean_log\", date_field = \"monthly_partition\")"
   ]
  },
  {
   "cell_type": "code",
   "execution_count": 14,
   "metadata": {},
   "outputs": [
    {
     "name": "stdout",
     "output_type": "stream",
     "text": [
      "+--------------+-------------+---------+------------+-------------+------------------+------------------+---------------------+------------------+--------------------+\n",
      "|gf_customer_id|montly_amount|isOutlier|isLogOutlier|ratio_sd_mean|inc_mean          |inc_mean_log      |montly_amount_avg_12m|inc_mean_avg_12m  |inc_mean_log_avg_12m|\n",
      "+--------------+-------------+---------+------------+-------------+------------------+------------------+---------------------+------------------+--------------------+\n",
      "|45634         |44171.74     |1        |1           |1.917        |2256.19           |2256.19           |6597.929230769231    |3373.656153846154 |3373.656153846154   |\n",
      "|1621          |9842.67      |1        |1           |0.48         |3329.23           |3329.23           |4088.4238461538457   |3587.39           |3587.39             |\n",
      "|1620          |10842.67     |1        |1           |0.632        |2829.23           |2829.23           |3683.8107692307694   |3067.3923076923083|3067.3923076923083  |\n",
      "|6726          |23793.0      |1        |1           |0.69         |6617.333333333333 |6617.333333333333 |7878.085384615386    |6556.880256410257 |6556.880256410257   |\n",
      "|1622          |9842.67      |1        |1           |0.48         |2286.0933333333337|2286.0933333333337|3856.0715384615387   |3274.79641025641  |3274.79641025641    |\n",
      "+--------------+-------------+---------+------------+-------------+------------------+------------------+---------------------+------------------+--------------------+\n",
      "\n"
     ]
    }
   ],
   "source": [
    "df_comparison.drop('rank', 'mean', 'date', 'monthly_partition').filter('''isOutlier = 1 or isLogOutlier = 1 ''').filter('''monthly_partition= '2021-03-31' ''').show(20, False)"
   ]
  },
  {
   "cell_type": "code",
   "execution_count": 15,
   "metadata": {},
   "outputs": [],
   "source": [
    "df_g = (to_explode(df_comparison.filter('''isOutlier = 1 or isLogOutlier = 1 ''').select('monthly_partition', 'gf_customer_id', 'montly_amount_avg_12m', \n",
    "                                      'inc_mean_avg_12m', 'inc_mean_log_avg_12m', 'mean', 'ratio_sd_mean'), \n",
    "                   ['monthly_partition', 'gf_customer_id', 'mean', 'ratio_sd_mean'])) #, 'inc_median_avg_12m'\n",
    "df_g = df_g.filter('''monthly_partition= '2021-03-31' ''')"
   ]
  },
  {
   "cell_type": "code",
   "execution_count": 16,
   "metadata": {},
   "outputs": [
    {
     "data": {
      "image/png": "[encoded data removed]",
      "text/plain": [
       "<Figure size 928x580 with 1 Axes>"
      ]
     },
     "metadata": {
      "needs_background": "light"
     },
     "output_type": "display_data"
    }
   ],
   "source": [
    "#is outlier \n",
    "plot_different_type_series(df_g.toPandas(), \n",
    "                           'ratio_sd_mean', 'movs','field', '', '',  dpi_value = 58, width = 16, height = 10, text_ = True)"
   ]
  },
  {
   "cell_type": "code",
   "execution_count": 16,
   "metadata": {},
   "outputs": [
    {
     "data": {
      "image/png": "[encoded data removed]",
      "text/plain": [
       "<Figure size 928x580 with 1 Axes>"
      ]
     },
     "metadata": {
      "needs_background": "light"
     },
     "output_type": "display_data"
    }
   ],
   "source": [
    "#is outlier \n",
    "plot_different_type_series(df_g.toPandas(), \n",
    "                           'ratio_sd_mean', 'movs','field', '', '',  dpi_value = 58, width = 16, height = 10, text_ = True)"
   ]
  },
  {
   "cell_type": "code",
   "execution_count": null,
   "metadata": {},
   "outputs": [],
   "source": [
    "#is outlier \n",
    "df_g = df_g.withColumn('ratio_sd_mean',sf.when(col('ratio_sd_mean')< 0, (-1)*col('ratio_sd_mean') ).otherwise(col('ratio_sd_mean') ))\n",
    "plot_different_type_series(df_g.toPandas(), \n",
    "                           'ratio_sd_mean', 'movs','field', '', '',  dpi_value = 58, width = 16, height = 10, text_ = True)"
   ]
  },
  {
   "cell_type": "code",
   "execution_count": null,
   "metadata": {},
   "outputs": [],
   "source": [
    "#sustitute \n",
    "df_rolling_out = (df_rolling.withColumn('inc_mean', sf.when(col('monthly_partition')== '2021-03-31', col('rolling_avg_3m')).otherwise(col('montly_amount')))\n",
    "                        .withColumn('inc_median', sf.when(col('monthly_partition')== '2021-03-31', col('rolling_median_3m')).otherwise(col('montly_amount')))\n",
    "                                    .drop('rolling_avg_3m', 'list', 'rolling_median_3m', 'account_seniority_m', 'account_seniority_y', 'year', 'month'))\n",
    "\n",
    "df_comparison = rolling_metric_12m(df_rolling_out, partitioned_by = \"gf_customer_id\", value = \"montly_amount\", date_field = \"monthly_partition\")\n",
    "df_comparison = rolling_metric_12m(df_comparison, partitioned_by = \"gf_customer_id\", value = \"inc_mean\", date_field = \"monthly_partition\")\n",
    "df_comparison = rolling_metric_12m(df_comparison, partitioned_by = \"gf_customer_id\", value = \"inc_median\", date_field = \"monthly_partition\")\n",
    "\n"
   ]
  },
  {
   "cell_type": "code",
   "execution_count": null,
   "metadata": {},
   "outputs": [],
   "source": [
    "df_g = (to_explode(df_comparison.select('monthly_partition', 'gf_customer_id', 'montly_amount_avg_12m', \n",
    "                                      'inc_mean_avg_12m', 'mean', 'ratio_sd_mean', col('isOutlier').cast('double')), \n",
    "                   ['monthly_partition', 'gf_customer_id', 'mean', 'ratio_sd_mean', 'isOutlier'])) #, 'inc_median_avg_12m'\n",
    "df_g = df_g.filter('''monthly_partition= '2021-03-31' ''') #"
   ]
  },
  {
   "cell_type": "code",
   "execution_count": null,
   "metadata": {},
   "outputs": [],
   "source": [
    "df_g.show()"
   ]
  },
  {
   "cell_type": "code",
   "execution_count": null,
   "metadata": {},
   "outputs": [],
   "source": [
    "#is outlier \n",
    "plot_different_type_series(df_g.toPandas(), \n",
    "                           'ratio_sd_mean', 'movs','field', '', '',  dpi_value = 58, width = 16, height = 10, text_ = True)"
   ]
  },
  {
   "cell_type": "code",
   "execution_count": null,
   "metadata": {},
   "outputs": [],
   "source": []
  },
  {
   "cell_type": "code",
   "execution_count": null,
   "metadata": {},
   "outputs": [],
   "source": []
  },
  {
   "cell_type": "code",
   "execution_count": null,
   "metadata": {},
   "outputs": [],
   "source": []
  }
 ],
 "metadata": {
  "kernelspec": {
   "display_name": "Python 3",
   "language": "python",
   "name": "python3"
  },
  "language_info": {
   "codemirror_mode": {
    "name": "ipython",
    "version": 3
   },
   "file_extension": ".py",
   "mimetype": "text/x-python",
   "name": "python",
   "nbconvert_exporter": "python",
   "pygments_lexer": "ipython3",
   "version": "3.7.4"
  }
 },
 "nbformat": 4,
 "nbformat_minor": 4
}
