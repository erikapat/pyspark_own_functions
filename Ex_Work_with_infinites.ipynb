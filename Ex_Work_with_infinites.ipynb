{
 "cells": [
  {
   "cell_type": "code",
   "execution_count": null,
   "metadata": {},
   "outputs": [],
   "source": [
    "def replace_infs(c, v):\n",
    "    is_infinite = c.isin([\n",
    "        lit(\"+Infinity\").cast(\"double\"),\n",
    "        lit(\"-Infinity\").cast(\"double\")\n",
    "    ])\n",
    "    return when(c.isNotNull() & is_infinite, v).otherwise(c)\n",
    "\n",
    "df.withColumn(\"x1\", replace_infs(col(\"y\"), lit(-99))).show()"
   ]
  },
  {
   "cell_type": "markdown",
   "metadata": {},
   "source": [
    " POSITIVE_INFINITY = 999999.0  \n",
    "\n",
    "from pyspark.sql.functions import lit\n",
    "\n",
    "(sdf.withColumn( 'ind',  sf.when( col(\"financiero_total\") == 999999.0, lit(\"+Infinity\").cast(\"double\")).\n",
    "\n",
    "                otherwise( col(\"colchon_financiero_total\") ) ) ).show()\n",
    "\n",
    " NEGATIVE_INFINITY = -999999.0\n",
    "\n",
    "from pyspark.sql.functions import lit\n",
    "\n",
    "(sdf.withColumn( 'ind',  sf.when( col(\"financiero_total\") == -999999.0, lit(\"-Infinity\").cast(\"double\")).\n",
    "\n",
    "                otherwise( col(\"colchon_financiero_total\") ) ) ).show()\n",
    "\n",
    " UNDEFINED = 129912.0 \n",
    "\n",
    "mport pyspark.sql.functions as sf\n",
    "\n",
    "(sdf.withColumn( 'ind',  sf.when( col(\"financiero_total\") == 129912.0, float('nan')).otherwise( col(\"financiero_total\") ) ) ).show()"
   ]
  },
  {
   "cell_type": "code",
   "execution_count": null,
   "metadata": {},
   "outputs": [],
   "source": []
  }
 ],
 "metadata": {
  "kernelspec": {
   "display_name": "Python 3",
   "language": "python",
   "name": "python3"
  },
  "language_info": {
   "codemirror_mode": {
    "name": "ipython",
    "version": 3
   },
   "file_extension": ".py",
   "mimetype": "text/x-python",
   "name": "python",
   "nbconvert_exporter": "python",
   "pygments_lexer": "ipython3",
   "version": "3.8.3"
  }
 },
 "nbformat": 4,
 "nbformat_minor": 4
}
