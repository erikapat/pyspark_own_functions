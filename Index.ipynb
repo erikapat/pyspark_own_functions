{
 "cells": [
  {
   "cell_type": "markdown",
   "id": "detected-andrew",
   "metadata": {},
   "source": [
    "## **Index**"
   ]
  },
  {
   "cell_type": "markdown",
   "id": "casual-assistant",
   "metadata": {},
   "source": [
    "The objective of this repo is to create functions that can be reusable.\n",
    "\n",
    "\n",
    "The functions are in **utils**. The noteboks are only used as examples of how to use the functions.\n",
    "\n",
    "1. [Functions related with partitions](./Partitions.ipynb)\n",
    "\n",
    "2. [Functions related with operations with dates](./OperationsWithDates.ipynb)\n",
    "\n",
    "3. [Complete missing partitions](./CompleteMissingPartitions.ipynb)\n",
    "\n",
    "4. [Complete missingh dates](./CompleteMissingDays.ipynb)\n",
    "\n",
    "5. [Work with Infinites](./WorkWithInfinites.ipynb)\n",
    "\n",
    "6. [Basic statistical functions](./BasicStatisticalFunctions.ipynb)\n",
    "\n",
    "7. [Outliers](./Outliers_values_test.ipynb)"
   ]
  },
  {
   "cell_type": "markdown",
   "id": "stuffed-stations",
   "metadata": {},
   "source": []
  },
  {
   "cell_type": "code",
   "execution_count": null,
   "id": "interstate-video",
   "metadata": {},
   "outputs": [],
   "source": []
  }
 ],
 "metadata": {
  "kernelspec": {
   "display_name": "Python 3",
   "language": "python",
   "name": "python3"
  },
  "language_info": {
   "codemirror_mode": {
    "name": "ipython",
    "version": 3
   },
   "file_extension": ".py",
   "mimetype": "text/x-python",
   "name": "python",
   "nbconvert_exporter": "python",
   "pygments_lexer": "ipython3",
   "version": "3.7.4"
  }
 },
 "nbformat": 4,
 "nbformat_minor": 5
}
