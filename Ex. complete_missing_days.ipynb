{
 "cells": [
  {
   "cell_type": "code",
   "execution_count": 1,
   "metadata": {},
   "outputs": [],
   "source": [
    "# Configuration properties of Apache Spark\n",
    "#sc.stop()\n",
    "from pyspark import SparkConf\n",
    "from pyspark.sql import SparkSession\n",
    "from pyspark.sql.functions import unix_timestamp, from_unixtime\n",
    "\n",
    "APP_NAME = 'pyspark_python'\n",
    "MASTER = 'local[*]'\n",
    "\n",
    "conf = SparkConf().setAppName(APP_NAME)\n",
    "conf = conf.setMaster(MASTER)\n",
    "spark = SparkSession.builder.config(conf = conf).getOrCreate()\n",
    "sc = spark.sparkContext"
   ]
  },
  {
   "cell_type": "code",
   "execution_count": 2,
   "metadata": {},
   "outputs": [],
   "source": [
    "sc.addFile(\"utils/complete_missing_dates.py\")"
   ]
  },
  {
   "cell_type": "code",
   "execution_count": 3,
   "metadata": {},
   "outputs": [],
   "source": [
    "%load_ext autoreload\n",
    "%autoreload 2\n",
    "# load my own functions\n",
    "from utils.complete_missing_dates import *"
   ]
  },
  {
   "cell_type": "code",
   "execution_count": 4,
   "metadata": {},
   "outputs": [],
   "source": [
    "import pyspark.sql.functions as psf\n",
    "from pyspark.sql import Window\n",
    "from datetime import datetime, timedelta\n",
    "from itertools import product"
   ]
  },
  {
   "cell_type": "markdown",
   "metadata": {},
   "source": [
    "### Create the data for the example"
   ]
  },
  {
   "cell_type": "code",
   "execution_count": 5,
   "metadata": {},
   "outputs": [],
   "source": [
    "data = (  # recreate the DataFrame\n",
    "    (1, datetime(2019, 12, 2, 14, 54, 17), 49.94),\n",
    "    (1, datetime(2019, 12, 3, 8, 58, 39), 50.49),\n",
    "    (1, datetime(2019, 12, 6, 10, 44, 1), 50.24),\n",
    "    (2, datetime(2019, 12, 2, 8, 58, 39), 62.32),\n",
    "    (2, datetime(2019, 12, 4, 10, 44, 1), 65.64))\n",
    "df = spark.createDataFrame(data, schema=(\"person\", \"timestamp\", \"weight\"))"
   ]
  },
  {
   "cell_type": "code",
   "execution_count": 6,
   "metadata": {},
   "outputs": [
    {
     "name": "stdout",
     "output_type": "stream",
     "text": [
      "+------+-------------------+------+\n",
      "|person|          timestamp|weight|\n",
      "+------+-------------------+------+\n",
      "|     1|2019-12-02 14:54:17| 49.94|\n",
      "|     1|2019-12-03 08:58:39| 50.49|\n",
      "|     1|2019-12-06 10:44:01| 50.24|\n",
      "|     2|2019-12-02 08:58:39| 62.32|\n",
      "|     2|2019-12-04 10:44:01| 65.64|\n",
      "+------+-------------------+------+\n",
      "\n"
     ]
    }
   ],
   "source": [
    "df.show()"
   ]
  },
  {
   "cell_type": "markdown",
   "metadata": {},
   "source": [
    "### Example of application"
   ]
  },
  {
   "cell_type": "code",
   "execution_count": 7,
   "metadata": {},
   "outputs": [
    {
     "name": "stdout",
     "output_type": "stream",
     "text": [
      "+------+-------------------+------+\n",
      "|person|          timestamp|weight|\n",
      "+------+-------------------+------+\n",
      "|     1|2019-12-02 00:00:00| 49.94|\n",
      "|     1|2019-12-03 00:00:00| 50.49|\n",
      "|     1|2019-12-06 00:00:00| 50.24|\n",
      "|     2|2019-12-02 00:00:00| 62.32|\n",
      "|     2|2019-12-04 00:00:00| 65.64|\n",
      "+------+-------------------+------+\n",
      "\n"
     ]
    }
   ],
   "source": [
    "time_col     = \"timestamp\"\n",
    "referece_col = \"person\"\n",
    "df = df.withColumn('timestamp', daily_date_YYmmdd('timestamp'))\n",
    "df.show()"
   ]
  },
  {
   "cell_type": "code",
   "execution_count": 8,
   "metadata": {},
   "outputs": [],
   "source": [
    "hh = complete_missing_days(df, time_col, referece_col, spark)"
   ]
  },
  {
   "cell_type": "code",
   "execution_count": 9,
   "metadata": {},
   "outputs": [
    {
     "name": "stdout",
     "output_type": "stream",
     "text": [
      "+-------------------+------+------+\n",
      "|          timestamp|person|weight|\n",
      "+-------------------+------+------+\n",
      "|2019-12-02 00:00:00|     1| 49.94|\n",
      "|2019-12-03 00:00:00|     1| 50.49|\n",
      "|2019-12-04 00:00:00|     1|  null|\n",
      "|2019-12-05 00:00:00|     1|  null|\n",
      "|2019-12-06 00:00:00|     1| 50.24|\n",
      "|2019-12-02 00:00:00|     2| 62.32|\n",
      "|2019-12-03 00:00:00|     2|  null|\n",
      "|2019-12-04 00:00:00|     2| 65.64|\n",
      "|2019-12-05 00:00:00|     2|  null|\n",
      "|2019-12-06 00:00:00|     2|  null|\n",
      "+-------------------+------+------+\n",
      "\n"
     ]
    }
   ],
   "source": [
    "hh.sort('person','timestamp').show()"
   ]
  },
  {
   "cell_type": "code",
   "execution_count": null,
   "metadata": {},
   "outputs": [],
   "source": []
  }
 ],
 "metadata": {
  "kernelspec": {
   "display_name": "Python 3",
   "language": "python",
   "name": "python3"
  },
  "language_info": {
   "codemirror_mode": {
    "name": "ipython",
    "version": 3
   },
   "file_extension": ".py",
   "mimetype": "text/x-python",
   "name": "python",
   "nbconvert_exporter": "python",
   "pygments_lexer": "ipython3",
   "version": "3.7.4"
  }
 },
 "nbformat": 4,
 "nbformat_minor": 4
}
