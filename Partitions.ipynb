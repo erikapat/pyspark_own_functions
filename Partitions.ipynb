{
 "cells": [
  {
   "cell_type": "markdown",
   "metadata": {},
   "source": [
    "#### Partition functions"
   ]
  },
  {
   "cell_type": "code",
   "execution_count": 1,
   "metadata": {},
   "outputs": [],
   "source": [
    "# Configuration properties of Apache Spark\n",
    "#sc.stop()\n",
    "from pyspark import SparkConf\n",
    "from pyspark.sql import SparkSession\n",
    "from pyspark.sql.functions import unix_timestamp, from_unixtime\n",
    "\n",
    "APP_NAME = 'pyspark_python'\n",
    "MASTER = 'local[*]'\n",
    "\n",
    "conf = SparkConf().setAppName(APP_NAME)\n",
    "conf = conf.setMaster(MASTER)\n",
    "spark = SparkSession.builder.config(conf = conf).getOrCreate()\n",
    "sc = spark.sparkContext"
   ]
  },
  {
   "cell_type": "code",
   "execution_count": 2,
   "metadata": {},
   "outputs": [],
   "source": [
    "%load_ext autoreload\n",
    "%autoreload 2\n",
    "# load my own functions\n",
    "from utils.partitions import *"
   ]
  },
  {
   "cell_type": "code",
   "execution_count": 3,
   "metadata": {},
   "outputs": [],
   "source": [
    "import pyspark.sql.functions as psf\n",
    "from pyspark.sql import Window\n",
    "from datetime import datetime, timedelta\n",
    "from itertools import product"
   ]
  },
  {
   "cell_type": "code",
   "execution_count": 4,
   "metadata": {},
   "outputs": [
    {
     "name": "stdout",
     "output_type": "stream",
     "text": [
      "+------+-------------------+------+\n",
      "|person|          timestamp|weight|\n",
      "+------+-------------------+------+\n",
      "|     1|2019-12-02 14:54:17| 49.94|\n",
      "|     1|2019-12-03 08:58:39| 50.49|\n",
      "|     1|2019-12-06 10:44:01| 50.24|\n",
      "|     2|2019-12-02 08:58:39| 62.32|\n",
      "|     2|2019-12-04 10:44:01| 65.64|\n",
      "+------+-------------------+------+\n",
      "\n"
     ]
    }
   ],
   "source": [
    "data = (  # recreate the DataFrame\n",
    "    (1, datetime(2019, 12, 2, 14, 54, 17), 49.94),\n",
    "    (1, datetime(2019, 12, 3, 8, 58, 39), 50.49),\n",
    "    (1, datetime(2019, 12, 6, 10, 44, 1), 50.24),\n",
    "    (2, datetime(2019, 12, 2, 8, 58, 39), 62.32),\n",
    "    (2, datetime(2019, 12, 4, 10, 44, 1), 65.64))\n",
    "df = spark.createDataFrame(data, schema=(\"person\", \"timestamp\", \"weight\"))\n",
    "df.show()"
   ]
  },
  {
   "cell_type": "code",
   "execution_count": 5,
   "metadata": {},
   "outputs": [
    {
     "name": "stdout",
     "output_type": "stream",
     "text": [
      "+------+-------------------+------+------------+\n",
      "|person|          timestamp|weight|partition_id|\n",
      "+------+-------------------+------+------------+\n",
      "|     1|2019-12-02 14:54:17| 49.94|    20191231|\n",
      "|     1|2019-12-03 08:58:39| 50.49|    20191231|\n",
      "|     1|2019-12-06 10:44:01| 50.24|    20191231|\n",
      "|     2|2019-12-02 08:58:39| 62.32|    20191231|\n",
      "|     2|2019-12-04 10:44:01| 65.64|    20191231|\n",
      "+------+-------------------+------+------------+\n",
      "\n"
     ]
    }
   ],
   "source": [
    "df = df.withColumn('partition_id', create_partitions_from_df('timestamp'))\n",
    "df.show()"
   ]
  },
  {
   "cell_type": "markdown",
   "metadata": {},
   "source": [
    "Sustract N partitions"
   ]
  },
  {
   "cell_type": "code",
   "execution_count": 6,
   "metadata": {},
   "outputs": [
    {
     "data": {
      "text/plain": [
       "'20190131'"
      ]
     },
     "execution_count": 6,
     "metadata": {},
     "output_type": "execute_result"
    }
   ],
   "source": [
    "data_depth_months = 11\n",
    "sustract_month_partition('20191231', data_depth_months)"
   ]
  },
  {
   "cell_type": "markdown",
   "metadata": {},
   "source": [
    "Firt day of the partition"
   ]
  },
  {
   "cell_type": "code",
   "execution_count": 7,
   "metadata": {},
   "outputs": [
    {
     "data": {
      "text/plain": [
       "'20191201'"
      ]
     },
     "execution_count": 7,
     "metadata": {},
     "output_type": "execute_result"
    }
   ],
   "source": [
    "init_day_partition('20191231')"
   ]
  },
  {
   "cell_type": "markdown",
   "metadata": {},
   "source": [
    "Combination of above"
   ]
  },
  {
   "cell_type": "code",
   "execution_count": 8,
   "metadata": {},
   "outputs": [
    {
     "data": {
      "text/plain": [
       "'20190101'"
      ]
     },
     "execution_count": 8,
     "metadata": {},
     "output_type": "execute_result"
    }
   ],
   "source": [
    "sustract_month_partition(init_day_partition('20191231'), data_depth_months)"
   ]
  },
  {
   "cell_type": "code",
   "execution_count": 9,
   "metadata": {},
   "outputs": [
    {
     "data": {
      "text/plain": [
       "'20191226'"
      ]
     },
     "execution_count": 9,
     "metadata": {},
     "output_type": "execute_result"
    }
   ],
   "source": [
    "sustract_days_partition('20191231', data_depth_days = 5)"
   ]
  },
  {
   "cell_type": "code",
   "execution_count": null,
   "metadata": {},
   "outputs": [],
   "source": []
  },
  {
   "cell_type": "markdown",
   "metadata": {},
   "source": [
    "## Duplicates"
   ]
  },
  {
   "cell_type": "code",
   "execution_count": 16,
   "metadata": {},
   "outputs": [
    {
     "name": "stdout",
     "output_type": "stream",
     "text": [
      "+------+-------------------+------+\n",
      "|person|          timestamp|weight|\n",
      "+------+-------------------+------+\n",
      "|     1|2019-12-02 00:00:00| 49.94|\n",
      "|     1|2019-12-03 00:00:00| 62.32|\n",
      "|     1|2019-12-06 00:00:00| 62.32|\n",
      "|     2|2019-12-03 00:00:00| 62.32|\n",
      "|     2|2019-12-02 00:00:00| 62.32|\n",
      "+------+-------------------+------+\n",
      "\n"
     ]
    }
   ],
   "source": [
    "data = (  # recreate the DataFrame\n",
    "    (1, datetime(2019, 12, 2, 0, 0, 0), 49.94),\n",
    "    (1, datetime(2019, 12, 3, 0, 0, 0), 62.32),\n",
    "    (1, datetime(2019, 12, 6, 0, 0, 0), 62.32),\n",
    "    (2, datetime(2019, 12, 3, 0, 0, 0), 62.32),\n",
    "    (2, datetime(2019, 12, 2, 0, 0, 0), 62.32))\n",
    "df = spark.createDataFrame(data, schema=(\"person\", \"timestamp\", \"weight\"))\n",
    "df.show()"
   ]
  },
  {
   "cell_type": "code",
   "execution_count": 9,
   "metadata": {},
   "outputs": [
    {
     "name": "stdout",
     "output_type": "stream",
     "text": [
      "+------+-------------------+------+\n",
      "|person|timestamp          |weight|\n",
      "+------+-------------------+------+\n",
      "|1     |2019-12-02 00:00:00|62.32 |\n",
      "|1     |2019-12-02 00:00:00|62.32 |\n",
      "|1     |2019-12-02 00:00:00|49.94 |\n",
      "|1     |2019-12-03 00:00:00|50.49 |\n",
      "|1     |2019-12-06 00:00:00|50.24 |\n",
      "+------+-------------------+------+\n",
      "\n"
     ]
    }
   ],
   "source": [
    "df.sort('timestamp').show(20, False)"
   ]
  },
  {
   "cell_type": "code",
   "execution_count": 27,
   "metadata": {},
   "outputs": [
    {
     "name": "stdout",
     "output_type": "stream",
     "text": [
      "+------+-------------------+------+---+\n",
      "|person|          timestamp|weight| rn|\n",
      "+------+-------------------+------+---+\n",
      "|     1|2019-12-06 00:00:00| 62.32|  1|\n",
      "|     1|2019-12-03 00:00:00| 62.32|  2|\n",
      "|     1|2019-12-02 00:00:00| 49.94|  3|\n",
      "|     2|2019-12-03 00:00:00| 62.32|  1|\n",
      "|     2|2019-12-02 00:00:00| 62.32|  2|\n",
      "+------+-------------------+------+---+\n",
      "\n"
     ]
    }
   ],
   "source": [
    "from pyspark.sql import *\n",
    "from pyspark.sql.functions import *\n",
    "\n",
    "w=Window.partitionBy(\"person\").orderBy(col(\"timestamp\").desc())\n",
    "\n",
    "\n",
    "df1=df.withColumn(\"rn\",row_number().over(w)) #.filter(col(\"rn\")==1).drop(\"rn\")\n",
    "\n",
    "df1.show()"
   ]
  },
  {
   "cell_type": "code",
   "execution_count": null,
   "metadata": {},
   "outputs": [],
   "source": []
  }
 ],
 "metadata": {
  "kernelspec": {
   "display_name": "Python 3",
   "language": "python",
   "name": "python3"
  },
  "language_info": {
   "codemirror_mode": {
    "name": "ipython",
    "version": 3
   },
   "file_extension": ".py",
   "mimetype": "text/x-python",
   "name": "python",
   "nbconvert_exporter": "python",
   "pygments_lexer": "ipython3",
   "version": "3.7.4"
  }
 },
 "nbformat": 4,
 "nbformat_minor": 4
}
