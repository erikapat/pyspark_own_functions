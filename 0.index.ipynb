{
 "cells": [
  {
   "cell_type": "markdown",
   "id": "skilled-monster",
   "metadata": {},
   "source": [
    "## **Index**"
   ]
  },
  {
   "cell_type": "markdown",
   "id": "acting-inflation",
   "metadata": {},
   "source": [
    "1.- Functions related wint partitions. [Link to NB](./Ex_Partitions.ipynb)\n",
    "\n",
    "2.- Functions related wint operations with dates. [Link to NB](./Ex_Operations_with_dates.ipynb)\n",
    "\n",
    "3.- Complete missing partitions. [Link to NB](./Ex_complete_missing_partitions.ipynb)\n",
    "\n",
    "4.- Complete missingh dates. [Link to NB](./Ex_complete_missing_days.ipynb)\n",
    "\n",
    "5.- Work with Infinites. [Link to NB](./Ex_Work_with_infinites.ipynb)\n",
    "\n",
    "6.- Basic statistical functions. [Link to NB](./Basic_statistical_functions.ipynb)"
   ]
  },
  {
   "cell_type": "markdown",
   "id": "supreme-bradley",
   "metadata": {},
   "source": []
  },
  {
   "cell_type": "code",
   "execution_count": null,
   "id": "indonesian-bloom",
   "metadata": {},
   "outputs": [],
   "source": []
  }
 ],
 "metadata": {
  "kernelspec": {
   "display_name": "Python 3",
   "language": "python",
   "name": "python3"
  },
  "language_info": {
   "codemirror_mode": {
    "name": "ipython",
    "version": 3
   },
   "file_extension": ".py",
   "mimetype": "text/x-python",
   "name": "python",
   "nbconvert_exporter": "python",
   "pygments_lexer": "ipython3",
   "version": "3.7.4"
  }
 },
 "nbformat": 4,
 "nbformat_minor": 5
}
